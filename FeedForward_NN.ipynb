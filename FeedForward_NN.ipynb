{
 "cells": [
  {
   "cell_type": "code",
   "execution_count": 2,
   "metadata": {},
   "outputs": [],
   "source": [
    "import torch\n",
    "import torch.nn as nn\n",
    "import torchvision.transforms as transforms\n",
    "import torchvision.datasets as dsets\n",
    "from torch.autograd import Variable"
   ]
  },
  {
   "cell_type": "code",
   "execution_count": 3,
   "metadata": {},
   "outputs": [],
   "source": [
    "#Import the dataset\n",
    "train_dataset=dsets.MNIST(root='./data',train=True,transform=transforms.ToTensor(),download=True)\n",
    "test_dataset=dsets.MNIST(root='./data',train=True,transform=transforms.ToTensor(),download=True)"
   ]
  },
  {
   "cell_type": "code",
   "execution_count": 63,
   "metadata": {},
   "outputs": [],
   "source": [
    "#Make dataset iterable\n",
    "batch_size=100\n",
    "n_iters=3000\n",
    "num_epochs=n_iters/(len(train_dataset)/batch_size)\n",
    "num_epochs=int(num_epochs)\n",
    "\n",
    "train_loader=torch.utils.data.DataLoader(dataset=train_dataset,batch_size=batch_size,shuffle=True)\n",
    "test_loader=torch.utils.data.DataLoader(dataset=test_dataset,batch_size=batch_size,shuffle=False)"
   ]
  },
  {
   "cell_type": "code",
   "execution_count": 64,
   "metadata": {},
   "outputs": [],
   "source": [
    "#Create Model Class\n",
    "class NeuralNet(nn.Module):\n",
    "    def __init__(self,input_dim,hidden_1,hidden_2,output_dim):\n",
    "        super(NeuralNet,self).__init__()\n",
    "        #Linear Function\n",
    "        self.fc1=nn.Linear(input_dim,hidden_1)\n",
    "        #Non-linearity\n",
    "        self.relu1=nn.ReLU()\n",
    "        #Linear\n",
    "        self.fc2=nn.Linear(hidden_1,hidden_2)\n",
    "        \n",
    "        #Non Linear\n",
    "        self.relu2=nn.ReLU()\n",
    "        \n",
    "        #linear\n",
    "        self.fc3=nn.Linear(hidden_2,output_dim)\n",
    "        \n",
    "    def forward(self,x):\n",
    "        #Linear function \n",
    "        out=self.fc1(x)\n",
    "        \n",
    "        #Non-linear\n",
    "        out=self.relu1(out)\n",
    "        \n",
    "        #linear\n",
    "        out=self.fc2(out)\n",
    "        \n",
    "        #Non-linear\n",
    "        out=self.relu2(out)\n",
    "        \n",
    "        #linear\n",
    "        out=self.fc3(out)\n",
    "        \n",
    "        return out"
   ]
  },
  {
   "cell_type": "code",
   "execution_count": 65,
   "metadata": {},
   "outputs": [],
   "source": [
    "input_dim=28*28\n",
    "hidden_1=100\n",
    "hidden_2=50\n",
    "output_dim=10\n",
    "\n",
    "model=NeuralNet(input_dim,hidden_1,hidden_2,output_dim)"
   ]
  },
  {
   "cell_type": "code",
   "execution_count": 66,
   "metadata": {},
   "outputs": [],
   "source": [
    "#Instantiate Loss \n",
    "criterion=nn.CrossEntropyLoss()"
   ]
  },
  {
   "cell_type": "code",
   "execution_count": 67,
   "metadata": {},
   "outputs": [],
   "source": [
    "#Instantiate Optimizer Class\n",
    "learning_rate=0.01\n",
    "optimizer=torch.optim.SGD(model.parameters(),lr=learning_rate)"
   ]
  },
  {
   "cell_type": "code",
   "execution_count": 68,
   "metadata": {},
   "outputs": [
    {
     "name": "stdout",
     "output_type": "stream",
     "text": [
      "Iteration: 500. Loss: 1.782220482826233. Accuracy: 65\n",
      "Iteration: 1000. Loss: 0.8168783783912659. Accuracy: 80\n",
      "Iteration: 1500. Loss: 0.41183701157569885. Accuracy: 85\n",
      "Iteration: 2000. Loss: 0.45037156343460083. Accuracy: 87\n",
      "Iteration: 2500. Loss: 0.27116432785987854. Accuracy: 89\n",
      "Iteration: 3000. Loss: 0.3819550573825836. Accuracy: 89\n"
     ]
    }
   ],
   "source": [
    "iter=0\n",
    "for epcoh in range(num_epochs):\n",
    "    for i,(image,labels) in enumerate(train_loader):\n",
    "        \n",
    "        #Load images as variable\n",
    "        image=Variable(image.view(-1,28*28))\n",
    "        labels=Variable(labels)\n",
    "    \n",
    "        #clear the gradient buffer\n",
    "        optimizer.zero_grad()\n",
    "        \n",
    "        #forward pass to get the output\n",
    "        output=model(image)\n",
    "        \n",
    "        #Calculate loss\n",
    "        loss=criterion(output,labels)\n",
    "        \n",
    "        #Getting grads\n",
    "        loss.backward()\n",
    "        \n",
    "        #updating params\n",
    "        optimizer.step()\n",
    "        \n",
    "        iter=iter+1\n",
    "        \n",
    "        if iter%500 == 0:\n",
    "            correct=0\n",
    "            total=0\n",
    "            for images,labels in test_loader:\n",
    "                images=Variable(images.view(-1,28*28))\n",
    "                output=model(images)\n",
    "                _,predicted=torch.max(output.data,1)\n",
    "                total+=labels.size(0)\n",
    "                correct+=(predicted==labels).sum()\n",
    "            accuracy=100*correct/total\n",
    "            print('Iteration: {}. Loss: {}. Accuracy: {}'.format(iter, loss.item(), accuracy))"
   ]
  },
  {
   "cell_type": "code",
   "execution_count": null,
   "metadata": {},
   "outputs": [],
   "source": []
  }
 ],
 "metadata": {
  "kernelspec": {
   "display_name": "Python 3",
   "language": "python",
   "name": "python3"
  },
  "language_info": {
   "codemirror_mode": {
    "name": "ipython",
    "version": 3
   },
   "file_extension": ".py",
   "mimetype": "text/x-python",
   "name": "python",
   "nbconvert_exporter": "python",
   "pygments_lexer": "ipython3",
   "version": "3.6.6"
  }
 },
 "nbformat": 4,
 "nbformat_minor": 2
}
