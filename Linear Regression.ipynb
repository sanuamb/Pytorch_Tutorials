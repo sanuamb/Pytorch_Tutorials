{
 "cells": [
  {
   "cell_type": "markdown",
   "metadata": {},
   "source": [
    "### Simple Linear Regression"
   ]
  },
  {
   "cell_type": "code",
   "execution_count": 1,
   "metadata": {},
   "outputs": [],
   "source": [
    "import numpy as np\n",
    "import matplotlib.pyplot as plt"
   ]
  },
  {
   "cell_type": "code",
   "execution_count": null,
   "metadata": {},
   "outputs": [],
   "source": []
  },
  {
   "cell_type": "code",
   "execution_count": 2,
   "metadata": {},
   "outputs": [],
   "source": [
    "x_values=[i for i in range(11)]"
   ]
  },
  {
   "cell_type": "code",
   "execution_count": 3,
   "metadata": {},
   "outputs": [
    {
     "data": {
      "text/plain": [
       "[0, 1, 2, 3, 4, 5, 6, 7, 8, 9, 10]"
      ]
     },
     "execution_count": 3,
     "metadata": {},
     "output_type": "execute_result"
    }
   ],
   "source": [
    "x_values"
   ]
  },
  {
   "cell_type": "code",
   "execution_count": 4,
   "metadata": {},
   "outputs": [
    {
     "data": {
      "text/plain": [
       "(11,)"
      ]
     },
     "execution_count": 4,
     "metadata": {},
     "output_type": "execute_result"
    }
   ],
   "source": [
    "#Convert to numpy\n",
    "x_train=np.array(x_values,dtype=np.float32)\n",
    "x_train.shape"
   ]
  },
  {
   "cell_type": "code",
   "execution_count": 6,
   "metadata": {},
   "outputs": [
    {
     "data": {
      "text/plain": [
       "(11, 1)"
      ]
     },
     "execution_count": 6,
     "metadata": {},
     "output_type": "execute_result"
    }
   ],
   "source": [
    "#convert to 2d\n",
    "x_train=x_train.reshape(-1,1)\n",
    "x_train.shape"
   ]
  },
  {
   "cell_type": "code",
   "execution_count": 7,
   "metadata": {},
   "outputs": [],
   "source": [
    "y_values=[2*i + 1 for i in x_values]"
   ]
  },
  {
   "cell_type": "code",
   "execution_count": 8,
   "metadata": {},
   "outputs": [
    {
     "data": {
      "text/plain": [
       "[1, 3, 5, 7, 9, 11, 13, 15, 17, 19, 21]"
      ]
     },
     "execution_count": 8,
     "metadata": {},
     "output_type": "execute_result"
    }
   ],
   "source": [
    "y_values"
   ]
  },
  {
   "cell_type": "code",
   "execution_count": 9,
   "metadata": {},
   "outputs": [
    {
     "data": {
      "text/plain": [
       "(11,)"
      ]
     },
     "execution_count": 9,
     "metadata": {},
     "output_type": "execute_result"
    }
   ],
   "source": [
    "y_train=np.array(y_values,dtype=np.float32)\n",
    "y_train.shape"
   ]
  },
  {
   "cell_type": "code",
   "execution_count": 10,
   "metadata": {},
   "outputs": [
    {
     "data": {
      "text/plain": [
       "(11, 1)"
      ]
     },
     "execution_count": 10,
     "metadata": {},
     "output_type": "execute_result"
    }
   ],
   "source": [
    "#to 2d\n",
    "y_train=y_train.reshape(-1,1)\n",
    "y_train.shape"
   ]
  },
  {
   "cell_type": "markdown",
   "metadata": {},
   "source": [
    "### Building model"
   ]
  },
  {
   "cell_type": "code",
   "execution_count": 12,
   "metadata": {},
   "outputs": [],
   "source": [
    "import torch\n",
    "import torch.nn as nn\n",
    "from torch.autograd import Variable"
   ]
  },
  {
   "cell_type": "code",
   "execution_count": 13,
   "metadata": {},
   "outputs": [],
   "source": [
    "#create class\n",
    "class LinearRegressionModel(nn.Module):\n",
    "    def __init__(self,input_size,output_size):\n",
    "        super(LinearRegressionModel,self).__init__()\n",
    "        self.linear=nn.Linear(input_dim,output_dim)\n",
    "        \n",
    "    def forward(self,x):\n",
    "        out=self.linear(x)\n",
    "        return out"
   ]
  },
  {
   "cell_type": "code",
   "execution_count": 14,
   "metadata": {},
   "outputs": [],
   "source": [
    "input_dim=1\n",
    "output_dim=1\n",
    "model=LinearRegressionModel(input_dim,output_dim)"
   ]
  },
  {
   "cell_type": "code",
   "execution_count": 15,
   "metadata": {},
   "outputs": [],
   "source": [
    "#Instantiate Loss Class\n",
    "criterion=nn.MSELoss()"
   ]
  },
  {
   "cell_type": "code",
   "execution_count": 16,
   "metadata": {},
   "outputs": [],
   "source": [
    "#Instantiate a optimizer class\n",
    "learning_rate=0.01\n",
    "optimizer=torch.optim.SGD(model.parameters(),lr=learning_rate)"
   ]
  },
  {
   "cell_type": "code",
   "execution_count": 17,
   "metadata": {},
   "outputs": [],
   "source": [
    "epochs=100"
   ]
  },
  {
   "cell_type": "code",
   "execution_count": 22,
   "metadata": {},
   "outputs": [
    {
     "name": "stdout",
     "output_type": "stream",
     "text": [
      "epoch 1, loss 0.13395993411540985\n",
      "epoch 2, loss 0.02061394415795803\n",
      "epoch 3, loss 0.011260561645030975\n",
      "epoch 4, loss 0.01039064396172762\n",
      "epoch 5, loss 0.010213932953774929\n",
      "epoch 6, loss 0.010094918310642242\n",
      "epoch 7, loss 0.009981810115277767\n",
      "epoch 8, loss 0.009870287962257862\n",
      "epoch 9, loss 0.009760118089616299\n",
      "epoch 10, loss 0.009651077911257744\n",
      "epoch 11, loss 0.009543302468955517\n",
      "epoch 12, loss 0.009436754509806633\n",
      "epoch 13, loss 0.009331366047263145\n",
      "epoch 14, loss 0.009227191098034382\n",
      "epoch 15, loss 0.009124132804572582\n",
      "epoch 16, loss 0.009022235870361328\n",
      "epoch 17, loss 0.008921478874981403\n",
      "epoch 18, loss 0.008821876719594002\n",
      "epoch 19, loss 0.00872336607426405\n",
      "epoch 20, loss 0.008625957183539867\n",
      "epoch 21, loss 0.00852966122329235\n",
      "epoch 22, loss 0.008434372022747993\n",
      "epoch 23, loss 0.008340196684002876\n",
      "epoch 24, loss 0.008247073739767075\n",
      "epoch 25, loss 0.008154958486557007\n",
      "epoch 26, loss 0.00806389469653368\n",
      "epoch 27, loss 0.007973825559020042\n",
      "epoch 28, loss 0.007884836755692959\n",
      "epoch 29, loss 0.007796761579811573\n",
      "epoch 30, loss 0.0077096931636333466\n",
      "epoch 31, loss 0.007623610552400351\n",
      "epoch 32, loss 0.007538464851677418\n",
      "epoch 33, loss 0.00745429890230298\n",
      "epoch 34, loss 0.007371063344180584\n",
      "epoch 35, loss 0.007288715802133083\n",
      "epoch 36, loss 0.00720736850053072\n",
      "epoch 37, loss 0.007126848679035902\n",
      "epoch 38, loss 0.00704730860888958\n",
      "epoch 39, loss 0.006968603935092688\n",
      "epoch 40, loss 0.006890760734677315\n",
      "epoch 41, loss 0.006813813466578722\n",
      "epoch 42, loss 0.00673771882429719\n",
      "epoch 43, loss 0.006662480533123016\n",
      "epoch 44, loss 0.006588086485862732\n",
      "epoch 45, loss 0.006514513865113258\n",
      "epoch 46, loss 0.006441802717745304\n",
      "epoch 47, loss 0.0063698310405015945\n",
      "epoch 48, loss 0.006298709660768509\n",
      "epoch 49, loss 0.006228364072740078\n",
      "epoch 50, loss 0.00615882920101285\n",
      "epoch 51, loss 0.006090082228183746\n",
      "epoch 52, loss 0.006022030487656593\n",
      "epoch 53, loss 0.005954769905656576\n",
      "epoch 54, loss 0.005888297222554684\n",
      "epoch 55, loss 0.005822540260851383\n",
      "epoch 56, loss 0.005757506471127272\n",
      "epoch 57, loss 0.0056932345032691956\n",
      "epoch 58, loss 0.0056296661496162415\n",
      "epoch 59, loss 0.005566797219216824\n",
      "epoch 60, loss 0.005504631903022528\n",
      "epoch 61, loss 0.005443188361823559\n",
      "epoch 62, loss 0.005382396746426821\n",
      "epoch 63, loss 0.00532229570671916\n",
      "epoch 64, loss 0.00526283448562026\n",
      "epoch 65, loss 0.005204082932323217\n",
      "epoch 66, loss 0.005145963281393051\n",
      "epoch 67, loss 0.005088517442345619\n",
      "epoch 68, loss 0.00503169558942318\n",
      "epoch 69, loss 0.004975483752787113\n",
      "epoch 70, loss 0.00491991126909852\n",
      "epoch 71, loss 0.0048649911768734455\n",
      "epoch 72, loss 0.004810669459402561\n",
      "epoch 73, loss 0.004756940063089132\n",
      "epoch 74, loss 0.00470381323248148\n",
      "epoch 75, loss 0.00465129129588604\n",
      "epoch 76, loss 0.004599344916641712\n",
      "epoch 77, loss 0.00454800296574831\n",
      "epoch 78, loss 0.00449721422046423\n",
      "epoch 79, loss 0.004446981009095907\n",
      "epoch 80, loss 0.0043973601423203945\n",
      "epoch 81, loss 0.004348252434283495\n",
      "epoch 82, loss 0.004299680236726999\n",
      "epoch 83, loss 0.004251664504408836\n",
      "epoch 84, loss 0.0042041814886033535\n",
      "epoch 85, loss 0.004157228861004114\n",
      "epoch 86, loss 0.004110818263143301\n",
      "epoch 87, loss 0.004064923617988825\n",
      "epoch 88, loss 0.004019512794911861\n",
      "epoch 89, loss 0.003974612802267075\n",
      "epoch 90, loss 0.003930277191102505\n",
      "epoch 91, loss 0.0038863797672092915\n",
      "epoch 92, loss 0.0038429838605225086\n",
      "epoch 93, loss 0.0038000750355422497\n",
      "epoch 94, loss 0.0037576218601316214\n",
      "epoch 95, loss 0.0037156883627176285\n",
      "epoch 96, loss 0.003674144856631756\n",
      "epoch 97, loss 0.003633133601397276\n",
      "epoch 98, loss 0.003592567052692175\n",
      "epoch 99, loss 0.0035524293780326843\n",
      "epoch 100, loss 0.0035128004383295774\n"
     ]
    }
   ],
   "source": [
    "for epoch in range(epochs):\n",
    "    epoch=epoch+1\n",
    "    \n",
    "    #Convert numpy arrays to torch Variables\n",
    "    inputs=Variable(torch.from_numpy(x_train))\n",
    "    labels=Variable(torch.from_numpy(y_train))\n",
    "    \n",
    "    #Clear gradients w.r.t parameters\n",
    "    optimizer.zero_grad()\n",
    "    \n",
    "    #Forward pass to get output\n",
    "    outputs=model(inputs)\n",
    "    \n",
    "    #Calculate loss\n",
    "    loss=criterion(outputs,labels)\n",
    "    \n",
    "    #Getting gradients w.r.t parameters\n",
    "    loss.backward()\n",
    "    \n",
    "    #updating parameters\n",
    "    optimizer.step()\n",
    "    \n",
    "    epoch_loss=loss.item()\n",
    "    \n",
    "    print('epoch {}, loss {}'.format(epoch,epoch_loss))"
   ]
  },
  {
   "cell_type": "code",
   "execution_count": 23,
   "metadata": {},
   "outputs": [
    {
     "data": {
      "text/plain": [
       "array([[ 1.110252 ],\n",
       "       [ 3.0943747],\n",
       "       [ 5.0784974],\n",
       "       [ 7.06262  ],\n",
       "       [ 9.046743 ],\n",
       "       [11.030867 ],\n",
       "       [13.014989 ],\n",
       "       [14.999111 ],\n",
       "       [16.983234 ],\n",
       "       [18.967358 ],\n",
       "       [20.95148  ]], dtype=float32)"
      ]
     },
     "execution_count": 23,
     "metadata": {},
     "output_type": "execute_result"
    }
   ],
   "source": [
    "#Compare Data\n",
    "predicted=model(Variable(torch.from_numpy(x_train))).data.numpy()\n",
    "predicted"
   ]
  },
  {
   "cell_type": "code",
   "execution_count": 24,
   "metadata": {},
   "outputs": [
    {
     "data": {
      "text/plain": [
       "array([[ 1.],\n",
       "       [ 3.],\n",
       "       [ 5.],\n",
       "       [ 7.],\n",
       "       [ 9.],\n",
       "       [11.],\n",
       "       [13.],\n",
       "       [15.],\n",
       "       [17.],\n",
       "       [19.],\n",
       "       [21.]], dtype=float32)"
      ]
     },
     "execution_count": 24,
     "metadata": {},
     "output_type": "execute_result"
    }
   ],
   "source": [
    "#real y vals\n",
    "y_train"
   ]
  },
  {
   "cell_type": "code",
   "execution_count": 25,
   "metadata": {},
   "outputs": [
    {
     "data": {
      "image/png": "[encoded data removed]",
      "text/plain": [
       "<Figure size 432x288 with 1 Axes>"
      ]
     },
     "metadata": {},
     "output_type": "display_data"
    }
   ],
   "source": [
    "#clear figure\n",
    "plt.clf()\n",
    "\n",
    "#get predictions\n",
    "predicted=model(Variable(torch.from_numpy(x_train))).data.numpy()\n",
    "\n",
    "#plot true data\n",
    "plt.plot(x_train,y_train,'go',label='True data',alpha=0.5)\n",
    "\n",
    "#plot predictions\n",
    "plt.plot(x_train,predicted,'--',label='Predictions',alpha=0.5)\n",
    "\n",
    "#Legend and plot\n",
    "plt.legend(loc='best')\n",
    "plt.show()"
   ]
  },
  {
   "cell_type": "code",
   "execution_count": 26,
   "metadata": {},
   "outputs": [],
   "source": [
    "#save model Just saves the parameters\n",
    "save_model=False\n",
    "if save_model is True:\n",
    "    torch.save(model.state_dict(),'awesome_model.pkl')"
   ]
  },
  {
   "cell_type": "code",
   "execution_count": 27,
   "metadata": {},
   "outputs": [],
   "source": [
    "#load model\n",
    "load_model=False\n",
    "if load_model is True:\n",
    "    model.load_state_dict(torch.load('awesome_model.pkl'))"
   ]
  },
  {
   "cell_type": "code",
   "execution_count": null,
   "metadata": {},
   "outputs": [],
   "source": []
  }
 ],
 "metadata": {
  "kernelspec": {
   "display_name": "Python 3",
   "language": "python",
   "name": "python3"
  },
  "language_info": {
   "codemirror_mode": {
    "name": "ipython",
    "version": 3
   },
   "file_extension": ".py",
   "mimetype": "text/x-python",
   "name": "python",
   "nbconvert_exporter": "python",
   "pygments_lexer": "ipython3",
   "version": "3.6.6"
  }
 },
 "nbformat": 4,
 "nbformat_minor": 2
}
